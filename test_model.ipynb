{
 "cells": [
  {
   "cell_type": "markdown",
   "metadata": {},
   "source": [
    "#### Import"
   ]
  },
  {
   "cell_type": "code",
   "execution_count": null,
   "metadata": {},
   "outputs": [],
   "source": [
    "import easyocr\n",
    "import os\n",
    "import torch\n",
    "import matplotlib.pyplot as plt\n",
    "import random\n",
    "import glob\n",
    "from tqdm import tqdm\n",
    "import numpy as np\n",
    "import time\n",
    "from mmocr_eval import eval_ocr_metric\n",
    "import re"
   ]
  },
  {
   "cell_type": "markdown",
   "metadata": {},
   "source": [
    "#### Install packges"
   ]
  },
  {
   "cell_type": "code",
   "execution_count": null,
   "metadata": {},
   "outputs": [],
   "source": [
    "# !pip install matplotlib\n",
    "# !pip install rapidfuzz"
   ]
  },
  {
   "cell_type": "code",
   "execution_count": null,
   "metadata": {},
   "outputs": [],
   "source": [
    "torch.cuda.is_available()"
   ]
  },
  {
   "cell_type": "markdown",
   "metadata": {},
   "source": [
    "#### Training"
   ]
  },
  {
   "cell_type": "markdown",
   "metadata": {},
   "source": [
    "Load model by easyOCR API (https://www.jaided.ai/easyocr/documentation/)"
   ]
  },
  {
   "cell_type": "code",
   "execution_count": null,
   "metadata": {},
   "outputs": [],
   "source": [
    "start = time.time()\n",
    "model = 'crnn_30k_lr_5e-1'\n",
    "iteration = 'iter_20000'\n",
    "\n",
    "model_path = os.path.join('trainer', 'saved_models',model)\n",
    "reader = easyocr.Reader(lang_list = ['en','th'],\n",
    "                    model_storage_directory = model_path,\n",
    "                    user_network_directory = os.path.join('my_model','user_network'),\n",
    "                    recog_network  = iteration,\n",
    "                    config_path = 'crnn',\n",
    "                    gpu = True)\n",
    "# reader = easyocr.Reader(lang_list = ['en','th'],gpu = True )\n",
    "end = time.time()\n",
    "print(f'loading model time: {end - start}')"
   ]
  },
  {
   "cell_type": "markdown",
   "metadata": {},
   "source": [
    "visualise testing with some image"
   ]
  },
  {
   "cell_type": "code",
   "execution_count": null,
   "metadata": {},
   "outputs": [],
   "source": [
    "# plt.rcParams['font.family'] = 'TH Sarabun New'\n",
    "# # plt.rcParams['xtick.labelsize'] = 20.0\n",
    "# # plt.rcParams['ytick.labelsize'] = 20.0\n",
    "# columns = 5\n",
    "# rows = 40\n",
    "# fig = plt.figure(figsize=(15, 15))\n",
    "# ax = []\n",
    "# for i in tqdm(range(columns*rows)):\n",
    "#     # random_file_name = random.sample(os.listdir(os.path.join('trainer/all_data/testing/testing')),1)[0]\n",
    "#     # random_file_path = os.path.join('trainer/all_data/testing/testing',random_file_name)\n",
    "#     #random_file_name = random.sample(os.listdir(os.path.join('trainer/all_data/testing/testing')),1)[0]\n",
    "#     random_file_name = os.listdir(os.path.join('trainer/all_data/testing/testing'))[i]\n",
    "#     random_file_path = os.path.join('trainer/all_data/testing/testing',random_file_name)\n",
    "#     img = plt.imread(random_file_path)\n",
    "#     result = reader.readtext(random_file_path) \n",
    "#     ax.append(fig.add_subplot(rows, columns, i+1) )\n",
    "#     if len(result) > 0:\n",
    "#         txt = ''\n",
    "#         for i in result:\n",
    "#             txt += (' '+i[1])\n",
    "#         ax[-1].set_title(f'predict: {txt}')\n",
    "#     else:\n",
    "#         ax[-1].set_title('No result')\n",
    "#     plt.imshow(img)\n",
    "# fig.tight_layout() \n",
    "# plt.savefig(f'result.png')\n",
    "# # plt.show()"
   ]
  },
  {
   "cell_type": "code",
   "execution_count": null,
   "metadata": {},
   "outputs": [],
   "source": [
    "filepaths = glob.glob(os.path.join('trainer/all_data/testing/testing','*.jpg'))\n",
    "label_path = 'trainer/all_data/testing/testing/label.txt'\n",
    "with open(label_path, encoding='utf8') as file:\n",
    "    label = np.loadtxt(file,dtype=str)\n",
    "word_correct = 0\n",
    "\n",
    "if platform == 'win32':\n",
    "    filepaths = sorted(filepaths, key= lambda x: int(x.split('/')[-1].split('\\\\')[1].split('.')[0]))\n",
    "else:\n",
    "    filepaths = sorted(filepaths, key= lambda x: int(x.split('/')[-1].split('.')[0]))"
   ]
  },
  {
   "cell_type": "code",
   "execution_count": null,
   "metadata": {},
   "outputs": [],
   "source": [
    "\n",
    "plt.rcParams['font.family'] = 'TH Sarabun New'\n",
    "columns = 5\n",
    "rows = 200\n",
    "fig, ax = plt.subplots(rows, columns, figsize=(20, 20))\n",
    "ax.set_facecolor(\"white\")\n",
    "counter = 0\n",
    "for r in tqdm(range(rows)):\n",
    "    for c in range(columns):\n",
    "        file_name = re.split(r'[/\\\\]',filepaths[counter])[-1]\n",
    "        file_path = os.path.join('trainer/all_data/testing/testing',file_name)\n",
    "        img = plt.imread(file_path)\n",
    "        ax[r, c].axis('off')\n",
    "        result = reader.readtext(file_path) \n",
    "        if len(result) > 0:\n",
    "            txt = ''\n",
    "            for i in result:\n",
    "                txt += (' '+i[1])\n",
    "            ax[r, c].set_title(f'{file_name} predict: {txt}')\n",
    "        else:\n",
    "            ax[r, c].set_title('No result')\n",
    "        ax[r, c].imshow(img)\n",
    "        counter += 1\n",
    "plt.subplots_adjust(top = 20)"
   ]
  },
  {
   "cell_type": "markdown",
   "metadata": {},
   "source": [
    "testing with all files in dataset"
   ]
  },
  {
   "cell_type": "code",
   "execution_count": null,
   "metadata": {},
   "outputs": [],
   "source": [
    "from sys import platform"
   ]
  },
  {
   "cell_type": "code",
   "execution_count": null,
   "metadata": {},
   "outputs": [],
   "source": [
    "filepaths = glob.glob(os.path.join('trainer/all_data/testing/testing','*.jpg'))\n",
    "label_path = 'trainer/all_data/testing/testing/label.txt'\n",
    "with open(label_path, encoding='utf8') as file:\n",
    "    label = np.loadtxt(file,dtype=str)\n",
    "word_correct = 0\n",
    "if platform == 'win32':\n",
    "    filepaths = sorted(filepaths, key= lambda x: int(x.split('/')[-1].split('\\\\')[1].split('.')[0]))\n",
    "else:\n",
    "    filepaths = sorted(filepaths, key= lambda x: int(x.split('/')[-1].split('.')[0]))\n",
    "\n",
    "start = time.time()\n",
    "# filepaths = filepaths[:10]\n",
    "pred = []\n",
    "gt = [] # ground truth\n",
    "for i in tqdm(range(len(filepaths))):\n",
    "    label_img = label[i][1]\n",
    "\n",
    "    result = reader.readtext(filepaths[i], batch_size = 8,detail=0)\n",
    "    try:\n",
    "        pred.append(result[0])\n",
    "        if (len(result) > 1):\n",
    "            print(label_img, result, len(result))\n",
    "        gt.append(label_img)\n",
    "    except:\n",
    "        pred.append('')\n",
    "\n",
    "        gt.append(label_img)\n",
    "end = time.time()\n",
    "output = eval_ocr_metric(pred, gt)\n",
    "for k,v in output.items():\n",
    "    print(f'{k}: {v}')\n",
    "print(f'time: {end - start}')"
   ]
  },
  {
   "cell_type": "markdown",
   "metadata": {},
   "source": [
    "testing with LMWN"
   ]
  },
  {
   "cell_type": "code",
   "execution_count": null,
   "metadata": {},
   "outputs": [],
   "source": [
    "plt.rcParams['font.family'] = 'TH Sarabun New'\n",
    "plt.rcParams['xtick.labelsize'] = 20.0\n",
    "plt.rcParams['ytick.labelsize'] = 20.0\n",
    "columns = 2\n",
    "rows = 10\n",
    "fig = plt.figure(figsize=(10, 10))\n",
    "ax = []\n",
    "for i in range(columns*rows):\n",
    "    random_file_name = random.sample(os.listdir(os.path.join('trainer/all_data/testing/LMWN')),1)[0]\n",
    "    # random_file_path = os.path.join('trainer/all_data/testing/testing',random_file_name)\n",
    "    #random_file_name = random.sample(os.listdir(os.path.join('trainer/all_data/testing/testing')),1)[0]\n",
    "    # random_file_name = os.listdir(os.path.join('trainer/all_data/testing/LMWN'))[2]\n",
    "    random_file_path = os.path.join('trainer/all_data/testing/LMWN',random_file_name)\n",
    "    img = plt.imread(random_file_path)\n",
    "    result = reader.readtext(random_file_path,detail=0) \n",
    "    ax.append(fig.add_subplot(rows, columns, i+1) )\n",
    "    if len(result) > 0:\n",
    "        ax[-1].set_title(f'predict: {result}',fontsize=20)\n",
    "    else:\n",
    "        ax[-1].set_title('No result',fontsize=20)\n",
    "    plt.imshow(img)\n",
    "fig.tight_layout() \n",
    "plt.show()"
   ]
  }
 ],
 "metadata": {
  "kernelspec": {
   "display_name": "Python 3.9.12 ('base')",
   "language": "python",
   "name": "python3"
  },
  "language_info": {
   "codemirror_mode": {
    "name": "ipython",
    "version": 3
   },
   "file_extension": ".py",
   "mimetype": "text/x-python",
   "name": "python",
   "nbconvert_exporter": "python",
   "pygments_lexer": "ipython3",
   "version": "3.9.12"
  },
  "orig_nbformat": 4,
  "vscode": {
   "interpreter": {
    "hash": "52122cbc9699272b0fccdd336f01da0a8fa089bdcccefc5e05c668ba6be669f6"
   }
  }
 },
 "nbformat": 4,
 "nbformat_minor": 2
}
