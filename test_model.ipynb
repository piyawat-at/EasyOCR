{
 "cells": [
  {
   "cell_type": "code",
   "execution_count": 1,
   "metadata": {},
   "outputs": [],
   "source": [
    "import easyocr\n",
    "import os\n",
    "import torch\n",
    "import matplotlib.pyplot as plt\n",
    "import random\n",
    "import glob\n",
    "from tqdm import tqdm\n",
    "import numpy as np\n",
    "import time\n",
    "from mmocr_eval import eval_ocr_metric"
   ]
  },
  {
   "cell_type": "code",
   "execution_count": 2,
   "metadata": {},
   "outputs": [],
   "source": [
    "#!pip install matplotlib"
   ]
  },
  {
   "cell_type": "code",
   "execution_count": 3,
   "metadata": {},
   "outputs": [
    {
     "data": {
      "text/plain": [
       "True"
      ]
     },
     "execution_count": 3,
     "metadata": {},
     "output_type": "execute_result"
    }
   ],
   "source": [
    "torch.cuda.is_available()"
   ]
  },
  {
   "cell_type": "code",
   "execution_count": 4,
   "metadata": {},
   "outputs": [
    {
     "name": "stdout",
     "output_type": "stream",
     "text": [
      "star_net\n",
      "my_model\\user_network\\star_net.yaml\n",
      "Transformation: TPS\n",
      "FeatureExtraction: ResNet\n",
      "SequenceModeling: BiLSTM\n",
      "Prediction: CTC\n",
      "5.598895072937012\n"
     ]
    }
   ],
   "source": [
    "start = time.time()\n",
    "reader = easyocr.Reader(lang_list = ['en','th'],\n",
    "                        model_storage_directory = os.path.join('my_model','model'),\n",
    "                        user_network_directory = os.path.join('my_model','user_network'),\n",
    "                        recog_network  ='star_net',\n",
    "                        gpu = True)\n",
    "# reader = easyocr.Reader(lang_list = ['en','th'],gpu = True )\n",
    "end = time.time()\n",
    "print(end - start)\n",
    "                        "
   ]
  },
  {
   "cell_type": "code",
   "execution_count": 5,
   "metadata": {},
   "outputs": [],
   "source": [
    "# plt.rcParams['font.family'] = 'TH Sarabun New'\n",
    "# plt.rcParams['xtick.labelsize'] = 20.0\n",
    "# plt.rcParams['ytick.labelsize'] = 20.0\n",
    "# columns = 1\n",
    "# rows = 1\n",
    "# fig = plt.figure(figsize=(15, 15))\n",
    "# ax = []\n",
    "# for i in range(columns*rows):\n",
    "#     # random_file_name = random.sample(os.listdir(os.path.join('trainer/all_data/testing/testing')),1)[0]\n",
    "#     # random_file_path = os.path.join('trainer/all_data/testing/testing',random_file_name)\n",
    "#     #random_file_name = random.sample(os.listdir(os.path.join('trainer/all_data/testing/testing')),1)[0]\n",
    "#     random_file_name = os.listdir(os.path.join('trainer/all_data/testing/testing'))[2]\n",
    "#     random_file_path = os.path.join('trainer/all_data/testing/testing',random_file_name)\n",
    "#     img = plt.imread(random_file_path)\n",
    "#     result = reader.readtext(random_file_path) \n",
    "#     ax.append(fig.add_subplot(rows, columns, i+1) )\n",
    "#     try:\n",
    "#         ax[-1].set_title(f'{random_file_name}predict: {result[0][1]}',fontsize=20)\n",
    "#     except:\n",
    "#         ax[-1].set_title('{random_file_name} No result',fontsize=20)\n",
    "#     plt.imshow(img)\n",
    "# fig.tight_layout() \n",
    "# plt.show()"
   ]
  },
  {
   "cell_type": "code",
   "execution_count": 6,
   "metadata": {},
   "outputs": [
    {
     "name": "stderr",
     "output_type": "stream",
     "text": [
      "  0%|          | 0/1000 [00:00<?, ?it/s]c:\\Users\\PIYAWAT\\miniconda3\\lib\\site-packages\\torch\\nn\\functional.py:4193: UserWarning: Default grid_sample and affine_grid behavior has changed to align_corners=False since 1.3.0. Please specify align_corners=True if the old behavior is desired. See the documentation of grid_sample for details.\n",
      "  warnings.warn(\n",
      "100%|██████████| 1000/1000 [02:05<00:00,  7.94it/s]"
     ]
    },
    {
     "name": "stdout",
     "output_type": "stream",
     "text": [
      "char_recall: 0.0682\n",
      "char_precision: 0.2544\n",
      "word_acc: 0.0\n",
      "word_acc_ignore_case: 0.0\n",
      "word_acc_ignore_case_symbol: 0.058\n",
      "1-N.E.D: 0.0927\n",
      "time: 125.96733689308167\n"
     ]
    },
    {
     "name": "stderr",
     "output_type": "stream",
     "text": [
      "\n"
     ]
    }
   ],
   "source": [
    "filenames = glob.glob(os.path.join('trainer/all_data/testing/testing','*.jpg'))\n",
    "label_path = 'trainer/all_data/testing/testing/label.txt'\n",
    "with open(label_path, encoding='utf8') as file:\n",
    "    label = np.loadtxt(file,dtype=str)\n",
    "word_correct = 0\n",
    "filenames = sorted(filenames, key= lambda x: int(x.split('/')[-1].split('\\\\')[1].split('.')[0]))\n",
    "start = time.time()\n",
    "# filenames = filenames[:10]\n",
    "pred = []\n",
    "gt = [] # ground truth\n",
    "for i in tqdm(range(len(filenames))):\n",
    "    label_img = label[i][1]\n",
    "\n",
    "    result = reader.readtext(filenames[i], batch_size = 8)\n",
    "    try:\n",
    "        pred.append(result[0][1])\n",
    "        gt.append(label_img)\n",
    "    except:\n",
    "        pred.append('')\n",
    "        gt.append(label_img)\n",
    "end = time.time()\n",
    "output = eval_ocr_metric(pred, gt)\n",
    "for k,v in output.items():\n",
    "    print(f'{k}: {v}')\n",
    "print(f'time: {end - start}')"
   ]
  },
  {
   "cell_type": "code",
   "execution_count": null,
   "metadata": {},
   "outputs": [],
   "source": []
  }
 ],
 "metadata": {
  "interpreter": {
   "hash": "52122cbc9699272b0fccdd336f01da0a8fa089bdcccefc5e05c668ba6be669f6"
  },
  "kernelspec": {
   "display_name": "Python 3.9.12 ('base')",
   "language": "python",
   "name": "python3"
  },
  "language_info": {
   "codemirror_mode": {
    "name": "ipython",
    "version": 3
   },
   "file_extension": ".py",
   "mimetype": "text/x-python",
   "name": "python",
   "nbconvert_exporter": "python",
   "pygments_lexer": "ipython3",
   "version": "3.9.12"
  },
  "orig_nbformat": 4
 },
 "nbformat": 4,
 "nbformat_minor": 2
}
