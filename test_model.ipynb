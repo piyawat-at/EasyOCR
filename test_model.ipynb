{
 "cells": [
  {
   "cell_type": "markdown",
   "metadata": {},
   "source": [
    "#### Import"
   ]
  },
  {
   "cell_type": "code",
   "execution_count": null,
   "metadata": {},
   "outputs": [],
   "source": [
    "import easyocr\n",
    "import os\n",
    "import torch\n",
    "import matplotlib.pyplot as plt\n",
    "import random\n",
    "import glob\n",
    "from tqdm import tqdm\n",
    "import numpy as np\n",
    "import time\n",
    "from mmocr_eval import eval_ocr_metric\n",
    "import re\n",
    "import cv2 as cv"
   ]
  },
  {
   "cell_type": "markdown",
   "metadata": {},
   "source": [
    "#### Install packges"
   ]
  },
  {
   "cell_type": "code",
   "execution_count": null,
   "metadata": {},
   "outputs": [],
   "source": [
    "# !pip install matplotlib\n",
    "# !pip install rapidfuzz"
   ]
  },
  {
   "cell_type": "code",
   "execution_count": null,
   "metadata": {},
   "outputs": [],
   "source": [
    "torch.cuda.is_available()"
   ]
  },
  {
   "cell_type": "markdown",
   "metadata": {},
   "source": [
    "#### Training"
   ]
  },
  {
   "cell_type": "markdown",
   "metadata": {},
   "source": [
    "Load model by easyOCR API (https://www.jaided.ai/easyocr/documentation/)"
   ]
  },
  {
   "cell_type": "code",
   "execution_count": null,
   "metadata": {},
   "outputs": [],
   "source": [
    "start = time.time()\n",
    "model = 'crnn_30k_lr_25e-2'\n",
    "iteration = 'iter_20000'\n",
    "\n",
    "model_path = os.path.join('trainer', 'saved_models',model)\n",
    "reader = easyocr.Reader(lang_list = ['en','th'],\n",
    "                    model_storage_directory = model_path,\n",
    "                    user_network_directory = os.path.join('my_model','user_network'),\n",
    "                    recog_network  = iteration,\n",
    "                    config_path = 'crnn',\n",
    "                    gpu = True)\n",
    "# reader = easyocr.Reader(lang_list = ['en','th'],gpu = True )\n",
    "end = time.time()\n",
    "print(f'loading model time: {end - start}')"
   ]
  },
  {
   "cell_type": "markdown",
   "metadata": {},
   "source": [
    "visualise testing with some image"
   ]
  },
  {
   "cell_type": "code",
   "execution_count": null,
   "metadata": {},
   "outputs": [],
   "source": [
    "list_im = [789, 782, 575, 779, 589, 714, 999 ,683]"
   ]
  },
  {
   "cell_type": "code",
   "execution_count": null,
   "metadata": {},
   "outputs": [],
   "source": [
    "filepaths = glob.glob(os.path.join('trainer/all_data/testing/testing','*.jpg'))\n",
    "filepaths = sorted(filepaths, key= lambda x: int(re.split(r'[/\\\\.]',x)[-2]))\n",
    "\n",
    "plt.rcParams['font.family'] = 'TH Sarabun New'\n",
    "plt.rcParams['xtick.labelsize'] = 20.0\n",
    "plt.rcParams['ytick.labelsize'] = 20.0\n",
    "columns = 1\n",
    "rows = 1\n",
    "fig = plt.figure(figsize=(15, 15))\n",
    "ax = []\n",
    "for i in tqdm(range(columns*rows)):\n",
    "    # random_file_name = random.sample(os.listdir(os.path.join('trainer/all_data/testing/testing')),1)[0]\n",
    "    # random_file_path = os.path.join('trainer/all_data/testing/testing',random_file_name)\n",
    "    #random_file_name = random.sample(os.listdir(os.path.join('trainer/all_data/testing/testing')),1)[0]\n",
    "\n",
    "    # random_file_path = random.sample(filepaths,1)[0]\n",
    "    random_file_path = filepaths[788]\n",
    "    # random_file_path = filepaths[list_im.pop(0)]\n",
    "    img = plt.imread(random_file_path)\n",
    "    result = reader.recognize(random_file_path) \n",
    "    ax.append(fig.add_subplot(rows, columns, i+1) )\n",
    "    boxs = []\n",
    "    txt = []\n",
    "    for idx,i in enumerate(result):\n",
    "        boxs.append(i[0])\n",
    "        txt.append(i[1])\n",
    "\n",
    "    if len(result) > 0:\n",
    "        ax[-1].set_title(f'found {idx+1}    predict: {txt}' , fontsize=20)\n",
    "        for i in boxs:\n",
    "            pts = np.array(i, np.int32)\n",
    "            pts = pts.reshape((-1,1,2))\n",
    "            cv.polylines(img,[pts],True,(0,0,0))\n",
    "\n",
    "        \n",
    "    else:\n",
    "        ax[-1].set_title('No result', fontsize=20)\n",
    "    plt.imshow(img)\n",
    "fig.tight_layout() \n",
    "plt.show()"
   ]
  },
  {
   "cell_type": "code",
   "execution_count": null,
   "metadata": {},
   "outputs": [],
   "source": [
    "# filepaths = glob.glob(os.path.join('trainer/all_data/testing/testing','*.jpg'))\n",
    "# label_path = 'trainer/all_data/testing/testing/label.txt'\n",
    "# with open(label_path, encoding='utf8') as file:\n",
    "#     label = np.loadtxt(file,dtype=str)\n",
    "# word_correct = 0"
   ]
  },
  {
   "cell_type": "code",
   "execution_count": null,
   "metadata": {},
   "outputs": [],
   "source": [
    "\n",
    "# plt.rcParams['font.family'] = 'TH Sarabun New'\n",
    "# columns = 5\n",
    "# rows = 200\n",
    "# fig, ax = plt.subplots(rows, columns, figsize=(20, 20))\n",
    "# ax.set_facecolor(\"white\")\n",
    "# counter = 0\n",
    "# for r in tqdm(range(rows)):\n",
    "#     for c in range(columns):\n",
    "#         file_name = re.split(r'[/\\\\]',filepaths[counter])[-1]\n",
    "#         file_path = os.path.join('trainer/all_data/testing/testing',file_name)\n",
    "#         img = plt.imread(file_path)\n",
    "#         ax[r, c].axis('off')\n",
    "#         result = reader.readtext(file_path) \n",
    "#         if len(result) > 0:\n",
    "#             txt = ''\n",
    "#             for i in result:\n",
    "#                 txt += (' '+i[1])\n",
    "#             ax[r, c].set_title(f'{file_name} predict: {txt}')\n",
    "#         else:\n",
    "#             ax[r, c].set_title('No result')\n",
    "#         ax[r, c].imshow(img)\n",
    "#         counter += 1\n",
    "# plt.subplots_adjust(top = 20)"
   ]
  },
  {
   "cell_type": "markdown",
   "metadata": {},
   "source": [
    "testing with all files in dataset"
   ]
  },
  {
   "cell_type": "code",
   "execution_count": null,
   "metadata": {},
   "outputs": [],
   "source": [
    "filepaths = glob.glob(os.path.join('trainer/all_data/testing/testing','*.jpg'))\n",
    "filepaths = sorted(filepaths, key= lambda x: int(re.split(r'[/\\\\.]',x)[-2]))\n",
    "label_path = 'trainer/all_data/testing/testing/label.txt'\n",
    "with open(label_path, encoding='utf8') as file:\n",
    "    label = np.loadtxt(file,dtype=str)\n",
    "\n",
    "start = time.time()\n",
    "# filepaths = filepaths[:10]\n",
    "pred = []\n",
    "gt = [] # ground truth\n",
    "name_img = []\n",
    "for i in tqdm(range(len(filepaths))):\n",
    "    label_img = label[i][1]\n",
    "    name_img.append(label[i][0])\n",
    "    result = reader.recognize(filepaths[i], batch_size = 8,detail=0)\n",
    "    try:\n",
    "        pred.append(result)\n",
    "    except:\n",
    "        pred.append('')\n",
    "    gt.append(label_img)\n",
    "end = time.time()\n",
    "print(f'time: {end - start}')"
   ]
  },
  {
   "cell_type": "code",
   "execution_count": null,
   "metadata": {},
   "outputs": [],
   "source": [
    "import mmocr_eval \n",
    "from importlib import reload\n",
    "reload(mmocr_eval)\n",
    "tmp = name_img.copy()\n",
    "output, false_list = mmocr_eval.eval_ocr_metric(pred, gt, tmp)\n",
    "# output, false_list = eval_ocr_metric(pred, gt, name_img)\n",
    "for k,v in output.items():\n",
    "    print(f'{k}: {v}')"
   ]
  },
  {
   "cell_type": "code",
   "execution_count": null,
   "metadata": {},
   "outputs": [],
   "source": [
    "# for i in false_list:\n",
    "#     # print(i)"
   ]
  },
  {
   "cell_type": "markdown",
   "metadata": {},
   "source": [
    "visualise testing with flase prediction"
   ]
  },
  {
   "cell_type": "code",
   "execution_count": null,
   "metadata": {},
   "outputs": [],
   "source": [
    "filepaths = glob.glob(os.path.join('trainer/all_data/testing/testing','*.jpg'))\n",
    "filepaths = sorted(filepaths, key= lambda x: int(re.split(r'[/\\\\.]',x)[-2]))\n",
    "\n",
    "plt.rcParams['font.family'] = 'TH Sarabun New'\n",
    "plt.rcParams['xtick.labelsize'] = 20.0\n",
    "plt.rcParams['ytick.labelsize'] = 20.0\n",
    "columns = 3\n",
    "rows = 5\n",
    "fig = plt.figure(figsize=(15, 15))\n",
    "ax = []\n",
    "for i in tqdm(range(columns*rows)):\n",
    "    # random_file_name = random.sample(os.listdir(os.path.join('trainer/all_data/testing/testing')),1)[0]\n",
    "    # random_file_path = os.path.join('trainer/all_data/testing/testing',random_file_name)\n",
    "    #random_file_name = random.sample(os.listdir(os.path.join('trainer/all_data/testing/testing')),1)[0]\n",
    "\n",
    "    random_file_name = random.sample(false_list,1)[0]\n",
    "    random_file_name = random_file_name[0]\n",
    "    random_file_path = os.path.join('trainer/all_data/testing/testing',random_file_name)\n",
    "\n",
    "    img = plt.imread(random_file_path)\n",
    "    result = reader.recognize(random_file_path)\n",
    "    ax.append(fig.add_subplot(rows, columns, i+1) )\n",
    "    boxs = []\n",
    "    txt = []\n",
    "    for idx,i in enumerate(result):\n",
    "        boxs.append(i[0])\n",
    "        txt.append(i[1])\n",
    "\n",
    "\n",
    "    if len(result) > 0:\n",
    "        ax[-1].set_title(f'file: {random_file_name} predict: {txt} ', fontsize=20) \n",
    "        for i in boxs:\n",
    "                pts = np.array(i, np.int32)\n",
    "                pts = pts.reshape((-1,1,2))\n",
    "                cv.polylines(img,[pts],True,(0,0,0))\n",
    "    else:\n",
    "        ax[-1].set_title(f'file: {random_file_name} No result', fontsize=20)\n",
    "    plt.imshow(img)\n",
    "fig.tight_layout() \n",
    "plt.show()"
   ]
  },
  {
   "cell_type": "markdown",
   "metadata": {},
   "source": [
    "testing with LMWN"
   ]
  },
  {
   "cell_type": "code",
   "execution_count": null,
   "metadata": {},
   "outputs": [],
   "source": [
    "plt.rcParams['font.family'] = 'TH Sarabun New'\n",
    "plt.rcParams['xtick.labelsize'] = 20.0\n",
    "plt.rcParams['ytick.labelsize'] = 20.0\n",
    "columns = 2\n",
    "rows = 10\n",
    "fig = plt.figure(figsize=(10, 10))\n",
    "ax = []\n",
    "for i in range(columns*rows):\n",
    "    random_file_name = random.sample(os.listdir(os.path.join('trainer/all_data/testing/LMWN')),1)[0]\n",
    "    # random_file_path = os.path.join('trainer/all_data/testing/testing',random_file_name)\n",
    "    #random_file_name = random.sample(os.listdir(os.path.join('trainer/all_data/testing/testing')),1)[0]\n",
    "    # random_file_name = os.listdir(os.path.join('trainer/all_data/testing/LMWN'))[2]\n",
    "    random_file_path = os.path.join('trainer/all_data/testing/LMWN',random_file_name)\n",
    "    img = plt.imread(random_file_path)\n",
    "    result = reader.recognize(random_file_path) \n",
    "    ax.append(fig.add_subplot(rows, columns, i+1) )\n",
    "    if len(result) > 0:\n",
    "        ax[-1].set_title(f'predict: \"{result[0][1]}\" ', fontsize=20)\n",
    "        # pts = np.array(result[0][0], np.int32)\n",
    "        # pts = pts.reshape((-1,1,2))\n",
    "        # cv.polylines(img,[pts],True,(255,0,0))\n",
    "    else:\n",
    "        ax[-1].set_title('No result',fontsize=20)\n",
    "    plt.imshow(img)\n",
    "fig.tight_layout() \n",
    "plt.show()"
   ]
  }
 ],
 "metadata": {
  "kernelspec": {
   "display_name": "Python 3.8.12 ('base')",
   "language": "python",
   "name": "python3"
  },
  "language_info": {
   "codemirror_mode": {
    "name": "ipython",
    "version": 3
   },
   "file_extension": ".py",
   "mimetype": "text/x-python",
   "name": "python",
   "nbconvert_exporter": "python",
   "pygments_lexer": "ipython3",
   "version": "3.8.12"
  },
  "orig_nbformat": 4,
  "vscode": {
   "interpreter": {
    "hash": "d4d1e4263499bec80672ea0156c357c1ee493ec2b1c70f0acce89fc37c4a6abe"
   }
  }
 },
 "nbformat": 4,
 "nbformat_minor": 2
}
