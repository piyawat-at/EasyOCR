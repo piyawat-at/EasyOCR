{
 "cells": [
  {
   "cell_type": "code",
   "execution_count": null,
   "metadata": {},
   "outputs": [],
   "source": [
    "import glob\n",
    "import os\n",
    "from PIL import Image\n",
    "import matplotlib.pyplot as plt\n",
    "import json\n",
    "from tqdm import tqdm\n",
    "import re"
   ]
  },
  {
   "cell_type": "code",
   "execution_count": null,
   "metadata": {},
   "outputs": [],
   "source": [
    "# filepaths_list = glob.glob(os.path.join('trainer/all_data/testing/data_aia_mmocr','*.jpg'))\n",
    "# for filepath in tqdm(filepaths_list):\n",
    "#     name_counter = 0\n",
    "#     img = plt.imread(filepath)\n",
    "#     box_pos_json = filepath+'.json'\n",
    "#     with open(box_pos_json, 'r') as f:\n",
    "#         box_pos = json.load(f)\n",
    "#     for i_box, box in enumerate(box_pos['result']['horizontal_box']):    \n",
    "#         crop = img[box[2]:box[3],box[0]:box[1]]\n",
    "#         plt.imshow(crop)\n",
    "#         plt.axis('off')\n",
    "#         file_name = filepath.split('/')[-1].split('.')[0]\n",
    "#         save_path = os.path.join('data_aia_mmocr_cropped',file_name+'_'+str(name_counter)+'.jpg')\n",
    "#         plt.savefig(save_path)\n",
    "#         name_counter += 1"
   ]
  },
  {
   "cell_type": "code",
   "execution_count": null,
   "metadata": {},
   "outputs": [],
   "source": [
    "filepaths_list = glob.glob(os.path.join('/home/EasyOCR/trainer/all_data/hippo/training/white','*.jpg'))\n",
    "filepaths = sorted(filepaths_list, key= lambda x: int(re.split(r'[/\\\\.]',x)[-2]))[0]\n",
    "img = plt.imread(filepaths)\n",
    "print(filepaths)\n",
    "plt.imshow(img)"
   ]
  },
  {
   "cell_type": "code",
   "execution_count": null,
   "metadata": {},
   "outputs": [],
   "source": []
  }
 ],
 "metadata": {
  "kernelspec": {
   "display_name": "Python 3.9.12 ('base')",
   "language": "python",
   "name": "python3"
  },
  "language_info": {
   "codemirror_mode": {
    "name": "ipython",
    "version": 3
   },
   "file_extension": ".py",
   "mimetype": "text/x-python",
   "name": "python",
   "nbconvert_exporter": "python",
   "pygments_lexer": "ipython3",
   "version": "3.9.12"
  },
  "orig_nbformat": 4,
  "vscode": {
   "interpreter": {
    "hash": "52122cbc9699272b0fccdd336f01da0a8fa089bdcccefc5e05c668ba6be669f6"
   }
  }
 },
 "nbformat": 4,
 "nbformat_minor": 2
}
