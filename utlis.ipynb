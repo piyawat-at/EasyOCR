{
 "cells": [
  {
   "cell_type": "code",
   "execution_count": null,
   "metadata": {},
   "outputs": [],
   "source": [
    "import glob\n",
    "import os\n",
    "from PIL import Image\n",
    "import matplotlib.pyplot as plt\n",
    "import json\n",
    "from tqdm import tqdm\n",
    "import re"
   ]
  },
  {
   "cell_type": "code",
   "execution_count": null,
   "metadata": {},
   "outputs": [],
   "source": [
    "# filepaths_list = glob.glob(os.path.join('trainer/all_data/testing/data_aia_mmocr','*.jpg'))\n",
    "# for filepath in tqdm(filepaths_list):\n",
    "#     name_counter = 0\n",
    "#     img = plt.imread(filepath)\n",
    "#     box_pos_json = filepath+'.json'\n",
    "#     with open(box_pos_json, 'r') as f:\n",
    "#         box_pos = json.load(f)\n",
    "#     for i_box, box in enumerate(box_pos['result']['horizontal_box']):    \n",
    "#         crop = img[box[2]:box[3],box[0]:box[1]]\n",
    "#         plt.imshow(crop)\n",
    "#         plt.axis('off')\n",
    "#         file_name = filepath.split('/')[-1].split('.')[0]\n",
    "#         save_path = os.path.join('data_aia_mmocr_cropped',file_name+'_'+str(name_counter)+'.jpg')\n",
    "#         plt.savefig(save_path)\n",
    "#         name_counter += 1"
   ]
  },
  {
   "cell_type": "code",
   "execution_count": null,
   "metadata": {},
   "outputs": [],
   "source": [
    "filepaths_list = glob.glob(os.path.join('/home/EasyOCR/trainer/all_data/hippo/training/white','*.jpg'))\n",
    "filepaths = sorted(filepaths_list, key= lambda x: int(re.split(r'[/\\\\.]',x)[-2]))[0]\n",
    "img = plt.imread(filepaths)\n",
    "print(filepaths)\n",
    "plt.imshow(img)"
   ]
  },
  {
   "cell_type": "markdown",
   "metadata": {},
   "source": [
    "# split synthTIGER to 300k"
   ]
  },
  {
   "cell_type": "code",
   "execution_count": 21,
   "metadata": {},
   "outputs": [],
   "source": [
    "import os\n",
    "import random\n",
    "import numpy as np\n",
    "import shutil\n",
    "from tqdm import tqdm\n",
    "import pandas as pd"
   ]
  },
  {
   "cell_type": "code",
   "execution_count": 22,
   "metadata": {},
   "outputs": [],
   "source": [
    "label_list = []\n",
    "label_path = '/home/EasyOCR/trainer/all_data/hippo/training/results/label.txt'\n",
    "with open(label_path, encoding='utf8') as file:\n",
    "    lines = file.readlines()\n",
    "    for line in lines:\n",
    "        label_list.append(eval(line))"
   ]
  },
  {
   "cell_type": "code",
   "execution_count": null,
   "metadata": {},
   "outputs": [],
   "source": [
    "# image_folders = os.listdir('/home/EasyOCR/trainer/all_data/hippo/training/results/images')\n",
    "# data_csv = np.array([['filename', 'words']])\n",
    "\n",
    "# for i in tqdm(range(300000-102068)):\n",
    "#     random_image_folders = random.sample(image_folders,1)[0]\n",
    "#     image_folder = random_image_folders\n",
    "#     image_folder_path = os.path.join('/home/EasyOCR/trainer/all_data/hippo/training/results/images',image_folder)\n",
    "#     image_paths = os.listdir(image_folder_path)\n",
    "#     random_image_file = random.sample(image_paths, 1)[0]\n",
    "#     random_image_path = os.path.join(image_folder_path, random_image_file)\n",
    "#     des_path = file_name = os.path.join('trainer/all_data/hippo/training/300k_synthtiger',random_image_file)\n",
    "#     shutil.move(random_image_path, des_path)\n",
    "#     # label = label_list[int(random_image_file.split('.')[0])]['text']\n",
    "#     # print(label)\n",
    "#     # file_name = os.path.join('trainer/all_data/hippo/training/300k_synthtiger',random_image_file)\n",
    "#     # data = np.array([[file_name, label]])\n",
    "#     # data_csv = np.append(data_csv,data, axis=0)"
   ]
  },
  {
   "cell_type": "code",
   "execution_count": 24,
   "metadata": {},
   "outputs": [
    {
     "name": "stderr",
     "output_type": "stream",
     "text": [
      "100%|██████████| 300000/300000 [00:00<00:00, 513399.65it/s]\n"
     ]
    }
   ],
   "source": [
    "des_path  = os.listdir('trainer/all_data/hippo/training/300k_synthtiger/')\n",
    "len(des_path)\n",
    "# data_csv = np.array([['filename', 'words']])\n",
    "path = 'trainer/all_data/hippo/training/300k_synthtiger/labels.csv'\n",
    "with open(path,'w') as f:\n",
    "    f.write('filename,words'+'\\n')\n",
    "    for file in tqdm(des_path):\n",
    "        label = label_list[int(file.replace('.jpg',''))]['text']\n",
    "        f.write(file+','+label+'\\n')\n",
    "\n",
    "    #data = np.array([[file_name, label]])\n",
    "    #data_csv = np.append(data_csv,data, axis=0)\n",
    "# csv = pd.DataFrame(data_csv)\n",
    "# csv.to_csv(os.path.join(des_path,'labels.csv'),index=None,header=None)\n",
    "    "
   ]
  },
  {
   "cell_type": "code",
   "execution_count": 25,
   "metadata": {},
   "outputs": [
    {
     "name": "stdout",
     "output_type": "stream",
     "text": [
      "300001\n"
     ]
    }
   ],
   "source": [
    "label_list = []\n",
    "label_path = 'trainer/all_data/hippo/training/300k_synthtiger/labels.csv'\n",
    "with open(label_path, encoding='utf8') as file:\n",
    "    lines = file.readlines()\n",
    "    print(len(lines))"
   ]
  }
 ],
 "metadata": {
  "kernelspec": {
   "display_name": "Python 3.8.12 ('base')",
   "language": "python",
   "name": "python3"
  },
  "language_info": {
   "codemirror_mode": {
    "name": "ipython",
    "version": 3
   },
   "file_extension": ".py",
   "mimetype": "text/x-python",
   "name": "python",
   "nbconvert_exporter": "python",
   "pygments_lexer": "ipython3",
   "version": "3.8.12"
  },
  "orig_nbformat": 4,
  "vscode": {
   "interpreter": {
    "hash": "d4d1e4263499bec80672ea0156c357c1ee493ec2b1c70f0acce89fc37c4a6abe"
   }
  }
 },
 "nbformat": 4,
 "nbformat_minor": 2
}
