{
 "cells": [
  {
   "cell_type": "markdown",
   "metadata": {},
   "source": [
    "# Import"
   ]
  },
  {
   "cell_type": "code",
   "execution_count": 8,
   "metadata": {},
   "outputs": [],
   "source": [
    "# !pip install easyocr\n",
    "# !pip install onnx"
   ]
  },
  {
   "cell_type": "code",
   "execution_count": 9,
   "metadata": {},
   "outputs": [],
   "source": [
    "import ssl\n",
    "ssl._create_default_https_context = ssl._create_unverified_context\n",
    "import easyocr\n",
    "import os\n",
    "import matplotlib.pyplot as plt\n",
    "import cv2 as cv\n",
    "import numpy as np\n"
   ]
  },
  {
   "cell_type": "code",
   "execution_count": 10,
   "metadata": {},
   "outputs": [
    {
     "data": {
      "text/plain": [
       "True"
      ]
     },
     "execution_count": 10,
     "metadata": {},
     "output_type": "execute_result"
    }
   ],
   "source": [
    "import torch\n",
    "torch.cuda.is_available()"
   ]
  },
  {
   "cell_type": "markdown",
   "metadata": {},
   "source": [
    "Load model by easyOCR API (https://www.jaided.ai/easyocr/documentation/)"
   ]
  },
  {
   "cell_type": "code",
   "execution_count": 11,
   "metadata": {},
   "outputs": [
    {
     "name": "stdout",
     "output_type": "stream",
     "text": [
      "config: models\\rosetta_hippo_300k_bw.yaml\n",
      "--------------------\n",
      "Transformation: None\n",
      "FeatureExtraction: ResNet\n",
      "SequenceModeling: None\n",
      "Prediction: CTC\n"
     ]
    }
   ],
   "source": [
    "path = os.path.join(os.getcwd(), 'models')\n",
    "reader = easyocr.Reader(lang_list  = ['en','th'],gpu = True, \n",
    "                        model_storage_directory = path,\n",
    "                        user_network_directory = path,\n",
    "                        recog_network ='rosetta_hippo_300k_bw')"
   ]
  },
  {
   "cell_type": "code",
   "execution_count": 12,
   "metadata": {},
   "outputs": [],
   "source": [
    "def draw_box(im):\n",
    "    pts = np.array(box, dtype=np.int32)\n",
    "    cv.polylines(im,[pts],True,(255,0,0))\n"
   ]
  },
  {
   "cell_type": "code",
   "execution_count": 13,
   "metadata": {},
   "outputs": [
    {
     "name": "stdout",
     "output_type": "stream",
     "text": [
      "The model is valid!\n"
     ]
    },
    {
     "data": {
      "text/plain": [
       "[([[0, 0], [100, 0], [100, 29], [0, 29]], '23 มี.ค. 2571', 0.9004801984069255)]"
      ]
     },
     "execution_count": 13,
     "metadata": {},
     "output_type": "execute_result"
    }
   ],
   "source": [
    "img_path = '10.jpg'\n",
    "reader.recognize(img_path)"
   ]
  },
  {
   "cell_type": "markdown",
   "metadata": {},
   "source": [
    "detection + recognition"
   ]
  },
  {
   "cell_type": "code",
   "execution_count": null,
   "metadata": {},
   "outputs": [],
   "source": [
    "img_path = '10.jpg'\n",
    "im = plt.imread(img_path)\n",
    "result = reader.readtext(img_path)\n",
    "box = result[0][0]\n",
    "draw_box(im)\n",
    "plt.imshow(im)\n",
    "plt.axis('off')\n",
    "plt.show()\n",
    "result\n"
   ]
  },
  {
   "cell_type": "markdown",
   "metadata": {},
   "source": [
    "recognition"
   ]
  },
  {
   "cell_type": "code",
   "execution_count": null,
   "metadata": {},
   "outputs": [],
   "source": [
    "img_path = '10.jpg'\n",
    "im = plt.imread(img_path)\n",
    "result = reader.recognize(img_path)\n",
    "plt.imshow(im)\n",
    "plt.axis('off')\n",
    "plt.show()\n",
    "result"
   ]
  }
 ],
 "metadata": {
  "kernelspec": {
   "display_name": "Python 3.9.12 ('base')",
   "language": "python",
   "name": "python3"
  },
  "language_info": {
   "codemirror_mode": {
    "name": "ipython",
    "version": 3
   },
   "file_extension": ".py",
   "mimetype": "text/x-python",
   "name": "python",
   "nbconvert_exporter": "python",
   "pygments_lexer": "ipython3",
   "version": "3.9.12"
  },
  "orig_nbformat": 4,
  "vscode": {
   "interpreter": {
    "hash": "52122cbc9699272b0fccdd336f01da0a8fa089bdcccefc5e05c668ba6be669f6"
   }
  }
 },
 "nbformat": 4,
 "nbformat_minor": 2
}
