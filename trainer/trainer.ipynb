{
 "cells": [
  {
   "cell_type": "code",
   "execution_count": 1,
   "metadata": {},
   "outputs": [],
   "source": [
    "import os\n",
    "import torch.backends.cudnn as cudnn\n",
    "import torch\n",
    "import yaml\n",
    "from utils import AttrDict\n",
    "import pandas as pd\n",
    "from train import train\n",
    "from data_prepare import prepare_data"
   ]
  },
  {
   "cell_type": "markdown",
   "metadata": {},
   "source": [
    "#### Install packages"
   ]
  },
  {
   "cell_type": "code",
   "execution_count": 2,
   "metadata": {},
   "outputs": [],
   "source": [
    "# !pip install torch\n",
    "# !pip install natsort\n",
    "# !pip install torchvision\n",
    "# !pip install pyyaml\n",
    "# !pip install pandas\n",
    "# !pip install nltk"
   ]
  },
  {
   "cell_type": "code",
   "execution_count": 3,
   "metadata": {
    "ExecuteTime": {
     "end_time": "2021-07-23T04:19:23.885144Z",
     "start_time": "2021-07-23T04:19:23.880564Z"
    },
    "code_folding": []
   },
   "outputs": [
    {
     "data": {
      "text/plain": [
       "True"
      ]
     },
     "execution_count": 3,
     "metadata": {},
     "output_type": "execute_result"
    }
   ],
   "source": [
    "cudnn.benchmark = True\n",
    "cudnn.deterministic = False\n",
    "torch.cuda.is_available()"
   ]
  },
  {
   "cell_type": "markdown",
   "metadata": {},
   "source": [
    "#### Training"
   ]
  },
  {
   "cell_type": "code",
   "execution_count": 4,
   "metadata": {},
   "outputs": [],
   "source": [
    "# image_path = raw_data_path = os.path.join('raw_data','train_images_30k')\n",
    "# prepare_data(image_path)"
   ]
  },
  {
   "cell_type": "code",
   "execution_count": 5,
   "metadata": {
    "ExecuteTime": {
     "end_time": "2021-07-23T04:19:24.119144Z",
     "start_time": "2021-07-23T04:19:24.112032Z"
    },
    "code_folding": [
     0
    ]
   },
   "outputs": [],
   "source": [
    "def get_config(file_path):\n",
    "    with open(file_path, 'r', encoding=\"utf8\") as stream:\n",
    "        opt = yaml.safe_load(stream)\n",
    "    opt = AttrDict(opt)\n",
    "    if opt.lang_char == 'None':\n",
    "        pass\n",
    "        # characters = ''\n",
    "        # for data in opt['select_data'].split('-'):\n",
    "        #     csv_path = os.path.join(opt['train_data'], 'training' ,data, 'labels.csv')\n",
    "        #     df = pd.read_csv(csv_path, sep='^([^,]+),', engine='python', usecols=['filename', 'words'], keep_default_na=False)\n",
    "        #     all_char = ''.join(df['words'])\n",
    "        #     characters += ''.join(set(all_char))\n",
    "        # characters = sorted(set(characters))\n",
    "        # opt.character= ''.join(characters)\n",
    "        # print('char: ',opt.character)\n",
    "    else:\n",
    "        characters = ''\n",
    "        for data in opt['select_data'].split('-'):\n",
    "            csv_path = os.path.join(opt['train_data'], 'training' ,data, 'labels.csv')\n",
    "            df = pd.read_csv(csv_path, sep='^([^,]+),', engine='python', usecols=['filename', 'words'], keep_default_na=False)\n",
    "            all_char = ''.join(df['words'])\n",
    "            characters += ''.join(set(all_char))\n",
    "        characters = sorted(set(characters))\n",
    "        opt.character= ''.join(characters)\n",
    "        print(f'experiment: {opt.experiment_name}')\n",
    "        print('char in train_set:',opt.character)\n",
    "        opt.character = opt.lang_char\n",
    "    os.makedirs(f'./saved_models/{opt.experiment_name}', exist_ok=True)\n",
    "    return opt"
   ]
  },
  {
   "cell_type": "markdown",
   "metadata": {},
   "source": [
    "albe to config in config_files/*.yaml\n",
    "check list: \\\n",
    "&emsp;lang_char \\\n",
    "&emsp;experiment_name \\\n",
    "&emsp;num_iter \\\n",
    "&emsp;saved_model \\\n",
    "&emsp;lr \\\n",
    "&emsp;model architecture"
   ]
  },
  {
   "cell_type": "code",
   "execution_count": 6,
   "metadata": {
    "ExecuteTime": {
     "end_time": "2021-07-23T04:49:07.045060Z",
     "start_time": "2021-07-23T04:20:15.050992Z"
    }
   },
   "outputs": [
    {
     "name": "stdout",
     "output_type": "stream",
     "text": [
      "experiment: crnn_30k_lr_5e-2\n",
      "char in train_set:  !\"#$%&'()*+,-./0123456789:;<=>?@ABCDEFGHIJKLMNOPQRSTUVWXYZ[\\]^_`abcdefghijklmnopqrstuvwxyz|~กขฃคฅฆงจฉชซฌญฎฏฐฑฒณดตถทธนบปผฝพฟภมยรฤลฦวศษสหฬอฮฯะัาำิีึืุูเแโใไๅๆ็่้๊๋์ํ๐๑๒๓๔๕๖๗๘๙–‘’\n",
      "Filtering the images containing characters which are not in opt.character\n",
      "Filtering the images whose label is longer than opt.batch_max_length\n",
      "--------------------------------------------------------------------------------\n",
      "dataset_root: all_data/training\n",
      "opt.select_data: ['']\n",
      "opt.batch_ratio: ['1']\n",
      "--------------------------------------------------------------------------------\n",
      "dataset_log dataset_root:    all_data/training\t dataset: \n",
      "all_data/training/training\n",
      "sub-directory:\t/training\t num samples: 26859\n",
      "num total samples of : 26859 x 1.0 (total_data_usage_ratio) = 26859\n",
      "num samples of  per batch: 32 x 1.0 (batch_ratio) = 32\n",
      "--------------------------------------------------------------------------------\n",
      "Total_batch_size: 32 = 32\n",
      "--------------------------------------------------------------------------------\n",
      "dataset_log dataset_root:    all_data/validation\t dataset: /\n",
      "all_data/validation/validation\n",
      "sub-directory:\t/validation\t num samples: 2986\n",
      "--------------------------------------------------------------------------------\n",
      "No Transformation module specified\n",
      "model input parameters 64 600 20 1 256 256 183 34 None VGG BiLSTM CTC\n",
      "loading pretrained model from saved_models/crnn_30k_lr_25e-2/iter_14000.pth\n",
      "Modules, Parameters\n",
      "module.FeatureExtraction.ConvNet.0.weight 288\n",
      "module.FeatureExtraction.ConvNet.0.bias 32\n",
      "module.FeatureExtraction.ConvNet.3.weight 18432\n",
      "module.FeatureExtraction.ConvNet.3.bias 64\n",
      "module.FeatureExtraction.ConvNet.6.weight 73728\n",
      "module.FeatureExtraction.ConvNet.6.bias 128\n",
      "module.FeatureExtraction.ConvNet.8.weight 147456\n",
      "module.FeatureExtraction.ConvNet.8.bias 128\n",
      "module.FeatureExtraction.ConvNet.11.weight 294912\n",
      "module.FeatureExtraction.ConvNet.12.weight 256\n",
      "module.FeatureExtraction.ConvNet.12.bias 256\n",
      "module.FeatureExtraction.ConvNet.14.weight 589824\n",
      "module.FeatureExtraction.ConvNet.15.weight 256\n",
      "module.FeatureExtraction.ConvNet.15.bias 256\n",
      "module.FeatureExtraction.ConvNet.18.weight 262144\n",
      "module.FeatureExtraction.ConvNet.18.bias 256\n",
      "module.SequenceModeling.0.rnn.weight_ih_l0 262144\n",
      "module.SequenceModeling.0.rnn.weight_hh_l0 262144\n",
      "module.SequenceModeling.0.rnn.bias_ih_l0 1024\n",
      "module.SequenceModeling.0.rnn.bias_hh_l0 1024\n",
      "module.SequenceModeling.0.rnn.weight_ih_l0_reverse 262144\n",
      "module.SequenceModeling.0.rnn.weight_hh_l0_reverse 262144\n",
      "module.SequenceModeling.0.rnn.bias_ih_l0_reverse 1024\n",
      "module.SequenceModeling.0.rnn.bias_hh_l0_reverse 1024\n",
      "module.SequenceModeling.0.linear.weight 131072\n",
      "module.SequenceModeling.0.linear.bias 256\n",
      "module.SequenceModeling.1.rnn.weight_ih_l0 262144\n",
      "module.SequenceModeling.1.rnn.weight_hh_l0 262144\n",
      "module.SequenceModeling.1.rnn.bias_ih_l0 1024\n",
      "module.SequenceModeling.1.rnn.bias_hh_l0 1024\n",
      "module.SequenceModeling.1.rnn.weight_ih_l0_reverse 262144\n",
      "module.SequenceModeling.1.rnn.weight_hh_l0_reverse 262144\n",
      "module.SequenceModeling.1.rnn.bias_ih_l0_reverse 1024\n",
      "module.SequenceModeling.1.rnn.bias_hh_l0_reverse 1024\n",
      "module.SequenceModeling.1.linear.weight 131072\n",
      "module.SequenceModeling.1.linear.bias 256\n",
      "module.Prediction.weight 46848\n",
      "module.Prediction.bias 183\n",
      "Total Trainable Params: 3803447\n",
      "Trainable params num :  3803447\n",
      "Optimizer:\n",
      "Adadelta (\n",
      "Parameter Group 0\n",
      "    eps: 1e-08\n",
      "    lr: 0.5\n",
      "    rho: 0.95\n",
      "    weight_decay: 0\n",
      ")\n",
      "------------ Options -------------\n",
      "lang_char: 0123456789abcdefghijklmnopqrstuvwxyz ABCDEFGHIJKLMNOPQRSTUVWXYZ!\"#$%&'() *+,-./:;<=>?@[\\]^_`|~ กขฃคฅฆงจฉชซฌญฎฏฐฑฒณดตถทธนบปผฝพฟภมยรฤลฦวศษสหฬอฮฯะัาำิีึืุูเแโใไ ๅๆ็่้๊๋์ํ๐๑๒๓๔๕๖๗๘๙–‘ ’\n",
      "\n",
      "experiment_name: crnn_30k_lr_5e-2\n",
      "train_data: all_data/training\n",
      "valid_data: all_data/validation\n",
      "manualSeed: 1111\n",
      "workers: 6\n",
      "batch_size: 32\n",
      "num_iter: 20000\n",
      "valInterval: 1000000\n",
      "saved_model: saved_models/crnn_30k_lr_25e-2/iter_14000.pth\n",
      "FT: False\n",
      "optim: False\n",
      "lr: 0.5\n",
      "beta1: 0.9\n",
      "rho: 0.95\n",
      "eps: 1e-08\n",
      "grad_clip: 5\n",
      "select_data: ['']\n",
      "batch_ratio: ['1']\n",
      "total_data_usage_ratio: 1.0\n",
      "batch_max_length: 34\n",
      "imgH: 64\n",
      "imgW: 600\n",
      "rgb: False\n",
      "contrast_adjust: 0.0\n",
      "sensitive: True\n",
      "PAD: True\n",
      "data_filtering_off: False\n",
      "Transformation: None\n",
      "FeatureExtraction: VGG\n",
      "SequenceModeling: BiLSTM\n",
      "Prediction: CTC\n",
      "num_fiducial: 20\n",
      "input_channel: 1\n",
      "output_channel: 256\n",
      "hidden_size: 256\n",
      "decode: greedy\n",
      "new_prediction: False\n",
      "freeze_FeatureFxtraction: False\n",
      "freeze_SequenceModeling: False\n",
      "character: 0123456789abcdefghijklmnopqrstuvwxyz ABCDEFGHIJKLMNOPQRSTUVWXYZ!\"#$%&'() *+,-./:;<=>?@[\\]^_`|~ กขฃคฅฆงจฉชซฌญฎฏฐฑฒณดตถทธนบปผฝพฟภมยรฤลฦวศษสหฬอฮฯะัาำิีึืุูเแโใไ ๅๆ็่้๊๋์ํ๐๑๒๓๔๕๖๗๘๙–‘ ’\n",
      "\n",
      "num_class: 183\n",
      "---------------------------------------\n",
<<<<<<< HEAD
      "\n",
      "continue to train, start_iter: 14000\n"
=======
      "\n"
     ]
    },
    {
     "name": "stderr",
     "output_type": "stream",
     "text": [
      "loss: 0.225: 100%|█████████▉| 19999/20000 [2:12:03<00:00,  2.68it/s]   "
     ]
    },
    {
     "name": "stdout",
     "output_type": "stream",
     "text": [
      "end the training\n"
     ]
    },
    {
     "ename": "SystemExit",
     "evalue": "",
     "output_type": "error",
     "traceback": [
      "An exception has occurred, use %tb to see the full traceback.\n",
      "\u001b[1;31mSystemExit\u001b[0m\n"
>>>>>>> 04039eb33582e97552e4578b9ee88b3556a5d4fb
     ]
    },
    {
     "name": "stderr",
     "output_type": "stream",
     "text": [
<<<<<<< HEAD
      "loss: 0.520: : 77it [00:14,  5.80it/s]"
=======
      "c:\\Users\\PIYAWAT\\miniconda3\\lib\\site-packages\\IPython\\core\\interactiveshell.py:3406: UserWarning: To exit: use 'exit', 'quit', or Ctrl-D.\n",
      "  warn(\"To exit: use 'exit', 'quit', or Ctrl-D.\", stacklevel=1)\n"
>>>>>>> 04039eb33582e97552e4578b9ee88b3556a5d4fb
     ]
    }
   ],
   "source": [
    "opt = get_config(\"config_files/crnn_30k.yaml\")\n",
    "train(opt, amp=False)"
   ]
  },
  {
   "cell_type": "code",
<<<<<<< HEAD
   "execution_count": null,
=======
   "execution_count": 1,
>>>>>>> 04039eb33582e97552e4578b9ee88b3556a5d4fb
   "metadata": {},
   "outputs": [
    {
     "ename": "ValueError",
     "evalue": "could not convert string to float: 'experiment_name:'",
     "output_type": "error",
     "traceback": [
      "\u001b[0;31m---------------------------------------------------------------------------\u001b[0m",
      "\u001b[0;31mValueError\u001b[0m                                Traceback (most recent call last)",
      "\u001b[0;32m/tmp/ipykernel_747/1955370859.py\u001b[0m in \u001b[0;36m<module>\u001b[0;34m\u001b[0m\n\u001b[1;32m      6\u001b[0m         \u001b[0mlines\u001b[0m \u001b[0;34m=\u001b[0m \u001b[0mfile\u001b[0m\u001b[0;34m.\u001b[0m\u001b[0mreadlines\u001b[0m\u001b[0;34m(\u001b[0m\u001b[0;34m)\u001b[0m\u001b[0;34m\u001b[0m\u001b[0;34m\u001b[0m\u001b[0m\n\u001b[1;32m      7\u001b[0m         \u001b[0;32mfor\u001b[0m \u001b[0mline\u001b[0m \u001b[0;32min\u001b[0m \u001b[0mlines\u001b[0m\u001b[0;34m:\u001b[0m\u001b[0;34m\u001b[0m\u001b[0;34m\u001b[0m\u001b[0m\n\u001b[0;32m----> 8\u001b[0;31m             \u001b[0mloss_list\u001b[0m\u001b[0;34m.\u001b[0m\u001b[0mappend\u001b[0m\u001b[0;34m(\u001b[0m\u001b[0mfloat\u001b[0m\u001b[0;34m(\u001b[0m\u001b[0mline\u001b[0m\u001b[0;34m.\u001b[0m\u001b[0msplit\u001b[0m\u001b[0;34m(\u001b[0m\u001b[0;34m' '\u001b[0m\u001b[0;34m)\u001b[0m\u001b[0;34m[\u001b[0m\u001b[0;34m-\u001b[0m\u001b[0;36m2\u001b[0m\u001b[0;34m]\u001b[0m\u001b[0;34m)\u001b[0m\u001b[0;34m)\u001b[0m\u001b[0;34m\u001b[0m\u001b[0;34m\u001b[0m\u001b[0m\n\u001b[0m",
      "\u001b[0;31mValueError\u001b[0m: could not convert string to float: 'experiment_name:'"
     ]
    }
   ],
   "source": [
    "label_path = [ './saved_models/crnn_30k_lr_5e-1/log_loss_train.txt',\n",
    "]\n",
    "loss_list = []\n",
    "for path in label_path:\n",
    "    with open(path, encoding='utf8') as file:\n",
    "        lines = file.readlines()\n",
    "        for line in lines:\n",
    "            if not line.startswith('experiment_name'):\n",
    "                loss_list.append(float(line.split(' ')[-2]))"
   ]
  },
  {
   "cell_type": "code",
<<<<<<< HEAD
   "execution_count": null,
=======
   "execution_count": 3,
>>>>>>> 04039eb33582e97552e4578b9ee88b3556a5d4fb
   "metadata": {},
   "outputs": [
    {
     "name": "stdout",
     "output_type": "stream",
     "text": [
      "2000\n"
     ]
    },
    {
     "data": {
      "image/png": "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",
      "text/plain": [
       "<Figure size 800x800 with 1 Axes>"
      ]
     },
     "metadata": {
      "needs_background": "light"
     },
     "output_type": "display_data"
    }
   ],
   "source": [
    "import matplotlib.pyplot as plt\n",
    "import numpy as np\n",
    "print(len(loss_list))\n",
    "plt.figure(figsize=(10, 10), dpi=80)\n",
    "start_row = 10\n",
    "start = int(start_row /10)\n",
    "plt.plot(np.arange(len(loss_list[start:]))*10+start_row, loss_list[start:])\n",
    "plt.title(f'Training loss afer {start_row} iterations')\n",
    "plt.xlabel('iterations')\n",
    "plt.ylabel('Loss')\n",
    "plt.show()"
   ]
  }
 ],
 "metadata": {
  "kernelspec": {
   "display_name": "Python 3.8.12 ('base')",
   "language": "python",
   "name": "python3"
  },
  "language_info": {
   "codemirror_mode": {
    "name": "ipython",
    "version": 3
   },
   "file_extension": ".py",
   "mimetype": "text/x-python",
   "name": "python",
   "nbconvert_exporter": "python",
   "pygments_lexer": "ipython3",
   "version": "3.8.12"
  },
  "vscode": {
   "interpreter": {
    "hash": "d4d1e4263499bec80672ea0156c357c1ee493ec2b1c70f0acce89fc37c4a6abe"
   }
  }
 },
 "nbformat": 4,
 "nbformat_minor": 2
}
