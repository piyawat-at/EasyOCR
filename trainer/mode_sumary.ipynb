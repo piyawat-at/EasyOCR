{
 "cells": [
  {
   "cell_type": "code",
   "execution_count": 1,
   "metadata": {},
   "outputs": [],
   "source": [
    "from torchinfo import summary\n",
    "from model import Model\n",
    "import yaml\n",
    "from utils import AttrDict\n",
    "import pandas as pd\n",
    "import os"
   ]
  },
  {
   "cell_type": "code",
   "execution_count": 2,
   "metadata": {},
   "outputs": [],
   "source": [
    "def get_config(file_path):\n",
    "    with open(file_path, 'r', encoding=\"utf8\") as stream:\n",
    "        opt = yaml.safe_load(stream)\n",
    "    opt = AttrDict(opt)\n",
    "    if opt.lang_char == 'None':\n",
    "        pass\n",
    "        # characters = ''\n",
    "        # for data in opt['select_data'].split('-'):\n",
    "        #     csv_path = os.path.join(opt['train_data'], 'training' ,data, 'labels.csv')\n",
    "        #     df = pd.read_csv(csv_path, sep='^([^,]+),', engine='python', usecols=['filename', 'words'], keep_default_na=False)\n",
    "        #     all_char = ''.join(df['words'])\n",
    "        #     characters += ''.join(set(all_char))\n",
    "        # characters = sorted(set(characters))\n",
    "        # opt.character= ''.join(characters)\n",
    "        # print('char: ',opt.character)\n",
    "    else:\n",
    "        characters = ''\n",
    "        for data in opt['select_data'].split('-'):\n",
    "            csv_path = os.path.join(opt['train_data'], 'training' ,data, 'labels.csv')\n",
    "            df = pd.read_csv(csv_path, sep='^([^,]+),', engine='python', usecols=['filename', 'words'], keep_default_na=False)\n",
    "            all_char = ''.join(df['words'])\n",
    "            characters += ''.join(set(all_char))\n",
    "        characters = sorted(set(characters))\n",
    "        opt.character= ''.join(characters)\n",
    "        print(f'experiment: {opt.experiment_name}')\n",
    "        print('char in train_set:',opt.character)\n",
    "        opt.character = opt.lang_char\n",
    "        opt.num_class = len(opt.character)\n",
    "    return opt"
   ]
  },
  {
   "cell_type": "code",
   "execution_count": 6,
   "metadata": {},
   "outputs": [
    {
     "name": "stdout",
     "output_type": "stream",
     "text": [
      "experiment: crnn_30k_2000_lr_1\n",
      "char in train_set:  !\"#$%&'()*+,-./0123456789:;<=>?@ABCDEFGHIJKLMNOPQRSTUVWXYZ[\\]^_`abcdefghijklmnopqrstuvwxyz|~กขฃคฅฆงจฉชซฌญฎฏฐฑฒณดตถทธนบปผฝพฟภมยรฤลฦวศษสหฬอฮฯะัาำิีึืุูเแโใไๅๆ็่้๊๋์ํ๐๑๒๓๔๕๖๗๘๙–‘’\n",
      "No Transformation module specified\n"
     ]
    },
    {
     "data": {
      "text/plain": [
       "=================================================================\n",
       "Layer (type:depth-idx)                   Param #\n",
       "=================================================================\n",
       "Model                                    --\n",
       "├─VGG_FeatureExtractor: 1-1              --\n",
       "│    └─Sequential: 2-1                   --\n",
       "│    │    └─Conv2d: 3-1                  320\n",
       "│    │    └─ReLU: 3-2                    --\n",
       "│    │    └─MaxPool2d: 3-3               --\n",
       "│    │    └─Conv2d: 3-4                  18,496\n",
       "│    │    └─ReLU: 3-5                    --\n",
       "│    │    └─MaxPool2d: 3-6               --\n",
       "│    │    └─Conv2d: 3-7                  73,856\n",
       "│    │    └─ReLU: 3-8                    --\n",
       "│    │    └─Conv2d: 3-9                  147,584\n",
       "│    │    └─ReLU: 3-10                   --\n",
       "│    │    └─MaxPool2d: 3-11              --\n",
       "│    │    └─Conv2d: 3-12                 294,912\n",
       "│    │    └─BatchNorm2d: 3-13            512\n",
       "│    │    └─ReLU: 3-14                   --\n",
       "│    │    └─Conv2d: 3-15                 589,824\n",
       "│    │    └─BatchNorm2d: 3-16            512\n",
       "│    │    └─ReLU: 3-17                   --\n",
       "│    │    └─MaxPool2d: 3-18              --\n",
       "│    │    └─Conv2d: 3-19                 262,400\n",
       "│    │    └─ReLU: 3-20                   --\n",
       "├─AdaptiveAvgPool2d: 1-2                 --\n",
       "├─Sequential: 1-3                        --\n",
       "│    └─BidirectionalLSTM: 2-2            --\n",
       "│    │    └─LSTM: 3-21                   1,052,672\n",
       "│    │    └─Linear: 3-22                 131,328\n",
       "│    └─BidirectionalLSTM: 2-3            --\n",
       "│    │    └─LSTM: 3-23                   1,052,672\n",
       "│    │    └─Linear: 3-24                 131,328\n",
       "├─Linear: 1-4                            46,774\n",
       "=================================================================\n",
       "Total params: 3,803,190\n",
       "Trainable params: 3,803,190\n",
       "Non-trainable params: 0\n",
       "================================================================="
      ]
     },
     "execution_count": 6,
     "metadata": {},
     "output_type": "execute_result"
    }
   ],
   "source": [
    "opt = get_config(\"config_files/crnn_30k.yaml\")\n",
    "model  = Model(opt)\n",
    "batch_size = 16\n",
    "summary(model)"
   ]
  }
 ],
 "metadata": {
  "kernelspec": {
   "display_name": "Python 3.9.12 ('base')",
   "language": "python",
   "name": "python3"
  },
  "language_info": {
   "codemirror_mode": {
    "name": "ipython",
    "version": 3
   },
   "file_extension": ".py",
   "mimetype": "text/x-python",
   "name": "python",
   "nbconvert_exporter": "python",
   "pygments_lexer": "ipython3",
   "version": "3.9.12"
  },
  "orig_nbformat": 4,
  "vscode": {
   "interpreter": {
    "hash": "52122cbc9699272b0fccdd336f01da0a8fa089bdcccefc5e05c668ba6be669f6"
   }
  }
 },
 "nbformat": 4,
 "nbformat_minor": 2
}
